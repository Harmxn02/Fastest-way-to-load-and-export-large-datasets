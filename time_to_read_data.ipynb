{
 "cells": [
  {
   "cell_type": "markdown",
   "metadata": {},
   "source": [
    "# Comparison\n",
    "\n",
    "In this notebook we will compare the following methods:\n",
    "- Pandas\n",
    "- PyArrow with Pandas\n",
    "- Polars (CPU-based)\n",
    "- Polars with CUDA acceleration"
   ]
  },
  {
   "cell_type": "markdown",
   "metadata": {},
   "source": [
    "#### Dataset information\n",
    "![dataset_information](./public/dataset_information.png)"
   ]
  },
  {
   "cell_type": "markdown",
   "metadata": {},
   "source": [
    "### Time to load CSV"
   ]
  },
  {
   "cell_type": "code",
   "execution_count": 2,
   "metadata": {},
   "outputs": [],
   "source": [
    "import time\n",
    "import pandas as pd\n",
    "import pyarrow.parquet as pq\n",
    "import polars as pl\n",
    "\n",
    "def time_csv_loading(file_path):\n",
    "    \"\"\"\n",
    "    Measures and compares the time taken to load a CSV file using:\n",
    "    - Pandas\n",
    "    - PyArrow with Pandas\n",
    "    - Polars (CPU)\n",
    "    \n",
    "    Returns a dictionary with execution times.\n",
    "    \"\"\"\n",
    "    \n",
    "    results = {}\n",
    "    \n",
    "    # Pandas\n",
    "    start = time.time()\n",
    "    df_pandas = pd.read_csv(file_path)\n",
    "    results[\"Pandas\"] = time.time() - start\n",
    "    \n",
    "    # Pandas with PyArrow backend\n",
    "    start = time.time()\n",
    "    df_pandas_pyarrow = pd.read_csv(file_path, engine=\"pyarrow\")\n",
    "    results[\"Pandas with PyArrow\"] = time.time() - start\n",
    "    \n",
    "    # Polars (CPU)\n",
    "    start = time.time()\n",
    "    df_polars = pl.read_csv(file_path)\n",
    "    results[\"Polars (CPU)\"] = time.time() - start\n",
    "    \n",
    "    return results"
   ]
  },
  {
   "cell_type": "code",
   "execution_count": 3,
   "metadata": {},
   "outputs": [
    {
     "name": "stdout",
     "output_type": "stream",
     "text": [
      "Pandas: 11.3736 seconds\n",
      "Pandas with PyArrow: 1.8045 seconds\n",
      "Polars (CPU): 1.1111 seconds\n"
     ]
    }
   ],
   "source": [
    "file_path = \"./data/concat.csv\"\n",
    "timings = time_csv_loading(file_path)\n",
    "\n",
    "for method, time_taken in timings.items():\n",
    "\tprint(f\"{method}: {time_taken:.4f} seconds\")"
   ]
  }
 ],
 "metadata": {
  "kernelspec": {
   "display_name": "Python 3",
   "language": "python",
   "name": "python3"
  },
  "language_info": {
   "codemirror_mode": {
    "name": "ipython",
    "version": 3
   },
   "file_extension": ".py",
   "mimetype": "text/x-python",
   "name": "python",
   "nbconvert_exporter": "python",
   "pygments_lexer": "ipython3",
   "version": "3.12.7"
  }
 },
 "nbformat": 4,
 "nbformat_minor": 2
}
