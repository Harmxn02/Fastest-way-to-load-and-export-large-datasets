{
 "cells": [
  {
   "cell_type": "markdown",
   "metadata": {},
   "source": [
    "# Comparison\n",
    "\n",
    "In this notebook we will compare the following methods:\n",
    "- Pandas\n",
    "- PyArrow with Pandas"
   ]
  },
  {
   "cell_type": "markdown",
   "metadata": {},
   "source": [
    "#### Dataset information\n",
    "![dataset_information](./public/dataset_information.png)"
   ]
  },
  {
   "cell_type": "markdown",
   "metadata": {},
   "source": [
    "### Time to perform some actions on a large CSV"
   ]
  },
  {
   "cell_type": "code",
   "execution_count": 1,
   "metadata": {},
   "outputs": [],
   "source": [
    "\n",
    "import time\n",
    "import pandas as pd\n",
    "import polars as pl\n",
    "\n",
    "import pyarrow.compute as pc\n",
    "import pyarrow as pa\n",
    "\n",
    "\n",
    "def time_dataframe_operations(df_pandas, df_polars):\n",
    "    \"\"\"\n",
    "    Performs filtering, grouping, and sorting on a DataFrame using:\n",
    "    - Pandas\n",
    "    - PyArrow with Pandas\n",
    "    \n",
    "    Measures execution time for each method.\n",
    "    \n",
    "    Returns a dictionary with execution times.\n",
    "    \"\"\"\n",
    "    results = {}\n",
    "\n",
    "    # Pandas\n",
    "    start = time.time()\n",
    "    df_pandas_filtered = df_pandas[df_pandas[\" Destination Port\"] > 4000]\n",
    "    df_pandas_sorted = df_pandas_filtered.sort_values(by=\" Destination Port\")\n",
    "    results[\"Pandas\"] = time.time() - start\n",
    "\n",
    "    # Pandas with PyArrow backend (still using Pandas API)\n",
    "    start = time.time()\n",
    "    df_arrow = pa.Table.from_pandas(df_pandas)\n",
    "    df_arrow_filtered = df_arrow.filter(pc.greater(df_arrow[\" Destination Port\"], 4000))\n",
    "    df_arrow_sorted = df_arrow_filtered.take(pc.sort_indices(df_arrow_filtered, sort_keys=[(\" Destination Port\", \"ascending\")]))\n",
    "    results[\"PyArrow with Pandas\"] = time.time() - start\n",
    "    \n",
    "    # Polars (CPU)\"\n",
    "    start = time.time()\n",
    "    df_polars_filtered = df_polars.filter(pl.col(\" Destination Port\") > 4000)\n",
    "    df_polars_sorted = df_polars_filtered.sort(\" Destination Port\")\n",
    "    results[\"Polars (CPU)\"] = time.time() - start\n",
    "\n",
    "    return results\n"
   ]
  },
  {
   "cell_type": "code",
   "execution_count": 2,
   "metadata": {},
   "outputs": [],
   "source": [
    "file_path = \"./data/concat.csv\"\n",
    "\n",
    "df_pandas = pd.read_csv(file_path)\n",
    "df_polars = pl.read_csv(file_path)"
   ]
  },
  {
   "cell_type": "code",
   "execution_count": null,
   "metadata": {},
   "outputs": [],
   "source": [
    "timings = time_dataframe_operations(df_pandas=df_pandas, df_polars=df_polars)\n",
    "\n",
    "for method, time_taken in timings.items():\n",
    "\tprint(f\"{method}: {time_taken:.4f} seconds\")"
   ]
  }
 ],
 "metadata": {
  "kernelspec": {
   "display_name": "rapids_env",
   "language": "python",
   "name": "python3"
  },
  "language_info": {
   "codemirror_mode": {
    "name": "ipython",
    "version": 3
   },
   "file_extension": ".py",
   "mimetype": "text/x-python",
   "name": "python",
   "nbconvert_exporter": "python",
   "pygments_lexer": "ipython3",
   "version": "3.12.3"
  }
 },
 "nbformat": 4,
 "nbformat_minor": 2
}
