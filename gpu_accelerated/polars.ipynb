{
 "cells": [
  {
   "cell_type": "markdown",
   "metadata": {},
   "source": [
    "# Polars (CUDA)\n",
    "\n",
    "In this notebook we will test Polars with CUDA acceleration. We will use the `polars` library to load a CSV file and perform some operations on it. We will compare the performance of the operations with and without CUDA acceleration."
   ]
  },
  {
   "cell_type": "markdown",
   "metadata": {},
   "source": [
    "#### Dataset information\n",
    "![dataset_information](../public/dataset_information.png)"
   ]
  },
  {
   "cell_type": "code",
   "execution_count": 1,
   "metadata": {},
   "outputs": [],
   "source": [
    "import time\n",
    "import polars as pl\n",
    "\n",
    "df = pl.scan_csv(\"../data/concat.csv\")"
   ]
  },
  {
   "cell_type": "markdown",
   "metadata": {},
   "source": [
    "### Time to perform some actions on a large CSV"
   ]
  },
  {
   "cell_type": "code",
   "execution_count": 2,
   "metadata": {},
   "outputs": [],
   "source": [
    "gpu_engine = pl.GPUEngine(\n",
    "    device=0, # This is the default\n",
    "    raise_on_fail=True, # Fail loudly if we can't run on the GPU.\n",
    ")"
   ]
  },
  {
   "cell_type": "code",
   "execution_count": 3,
   "metadata": {},
   "outputs": [
    {
     "name": "stdout",
     "output_type": "stream",
     "text": [
      "{'Polars (CPU)': 22.167276859283447, 'Polars (GPU)': 4.097313165664673}\n"
     ]
    }
   ],
   "source": [
    "results = {}\n",
    "\n",
    "query = (\n",
    "\tdf.filter(pl.col(\" Destination Port\") > 4000).sort(\" Destination Port\")\n",
    ")\n",
    "\n",
    "# Measure time for CPU execution\n",
    "start = time.time()\n",
    "df_polars_cpu = query.collect()\n",
    "results[\"Polars (CPU)\"] = time.time() - start\n",
    "\n",
    "# Measure time for GPU execution\n",
    "start = time.time()\n",
    "df_polars_gpu = query.collect(engine=gpu_engine)\n",
    "results[\"Polars (GPU)\"] = time.time() - start\n",
    "\n",
    "print(results)"
   ]
  }
 ],
 "metadata": {
  "kernelspec": {
   "display_name": "rapids_env",
   "language": "python",
   "name": "python3"
  },
  "language_info": {
   "codemirror_mode": {
    "name": "ipython",
    "version": 3
   },
   "file_extension": ".py",
   "mimetype": "text/x-python",
   "name": "python",
   "nbconvert_exporter": "python",
   "pygments_lexer": "ipython3",
   "version": "3.12.3"
  }
 },
 "nbformat": 4,
 "nbformat_minor": 2
}
