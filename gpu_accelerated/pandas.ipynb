{
 "cells": [
  {
   "cell_type": "markdown",
   "metadata": {},
   "source": [
    "# Pandas (cuDF)\n",
    "\n",
    "In this notebook we will test Pandas with cuDF acceleration. We will use the `pandas` and `cudf` libraries to load a CSV file and perform some operations on it. We will compare the performance of the operations with and without cuDF acceleration."
   ]
  },
  {
   "cell_type": "markdown",
   "metadata": {},
   "source": [
    "#### Dataset information\n",
    "![dataset_information](../public/dataset_information.png)"
   ]
  },
  {
   "cell_type": "code",
   "execution_count": 2,
   "metadata": {},
   "outputs": [],
   "source": [
    "import time\n",
    "import pandas as pd\n",
    "import cudf\n",
    "\n",
    "csv_file = \"../data/concat.csv\""
   ]
  },
  {
   "cell_type": "markdown",
   "metadata": {},
   "source": [
    "### Time to load a large CSV"
   ]
  },
  {
   "cell_type": "code",
   "execution_count": null,
   "metadata": {},
   "outputs": [
    {
     "name": "stdout",
     "output_type": "stream",
     "text": [
      "Pandas load time: 15.4155 seconds\n",
      "cuDF (GPU) load time: 3.0132 seconds\n"
     ]
    }
   ],
   "source": [
    "# Measure Pandas load time (CPU)\n",
    "start_time = time.time()\n",
    "df_pandas = pd.read_csv(csv_file)\n",
    "pandas_time = time.time() - start_time\n",
    "print(f\"Pandas load time: {pandas_time:.4f} seconds\")\n",
    "\n",
    "# Measure cuDF load time (GPU)\n",
    "start_time = time.time()\n",
    "df_cudf = cudf.read_csv(csv_file)\n",
    "cudf_time = time.time() - start_time\n",
    "print(f\"cuDF (GPU) load time: {cudf_time:.4f} seconds\")"
   ]
  },
  {
   "cell_type": "code",
   "execution_count": 4,
   "metadata": {},
   "outputs": [
    {
     "name": "stdout",
     "output_type": "stream",
     "text": [
      "Pandas load time: 2.7375 seconds\n"
     ]
    }
   ],
   "source": [
    "%load_ext cudf.pandas\n",
    "import pandas as pd\n",
    "start_time = time.time()\n",
    "df_pandas_load = pd.read_csv(csv_file)\n",
    "pandas_load_time = time.time() - start_time\n",
    "print(f\"Pandas load time: {pandas_load_time:.4f} seconds\")"
   ]
  }
 ],
 "metadata": {
  "kernelspec": {
   "display_name": "rapids-24.12",
   "language": "python",
   "name": "python3"
  },
  "language_info": {
   "codemirror_mode": {
    "name": "ipython",
    "version": 3
   },
   "file_extension": ".py",
   "mimetype": "text/x-python",
   "name": "python",
   "nbconvert_exporter": "python",
   "pygments_lexer": "ipython3",
   "version": "3.12.9"
  }
 },
 "nbformat": 4,
 "nbformat_minor": 2
}
