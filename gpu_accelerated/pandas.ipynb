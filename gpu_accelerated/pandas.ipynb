{
 "cells": [
  {
   "cell_type": "markdown",
   "metadata": {},
   "source": [
    "# Pandas (cuDF)\n",
    "\n",
    "In this notebook we will test Pandas with cuDF acceleration. We will use the `pandas` and `cudf` libraries to load a CSV file and perform some operations on it. We will compare the performance of the operations with and without cuDF acceleration."
   ]
  },
  {
   "cell_type": "markdown",
   "metadata": {},
   "source": [
    "#### Dataset information\n",
    "![dataset_information](../public/dataset_information.png)"
   ]
  },
  {
   "cell_type": "code",
   "execution_count": 1,
   "metadata": {},
   "outputs": [],
   "source": [
    "import time\n",
    "import pandas as pd\n",
    "import cudf\n",
    "\n",
    "csv_file = \"../data/concat.csv\""
   ]
  },
  {
   "cell_type": "markdown",
   "metadata": {},
   "source": [
    "### Time to load a large CSV"
   ]
  },
  {
   "cell_type": "code",
   "execution_count": 2,
   "metadata": {},
   "outputs": [
    {
     "name": "stdout",
     "output_type": "stream",
     "text": [
      "Pandas load time: 15.6437 seconds\n",
      "cuDF (GPU) load time: 2.8815 seconds\n"
     ]
    }
   ],
   "source": [
    "# Measure Pandas load time (CPU)\n",
    "start_time = time.time()\n",
    "df_pandas = pd.read_csv(csv_file)\n",
    "pandas_time = time.time() - start_time\n",
    "print(f\"Pandas load time: {pandas_time:.4f} seconds\")\n",
    "\n",
    "# Measure cuDF load time (GPU)\n",
    "start_time = time.time()\n",
    "df_cudf = cudf.read_csv(csv_file)\n",
    "cudf_time = time.time() - start_time\n",
    "print(f\"cuDF (GPU) load time: {cudf_time:.4f} seconds\")"
   ]
  },
  {
   "cell_type": "code",
   "execution_count": 3,
   "metadata": {},
   "outputs": [
    {
     "name": "stdout",
     "output_type": "stream",
     "text": [
      "Pandas load time: 2.8536 seconds\n"
     ]
    }
   ],
   "source": [
    "%load_ext cudf.pandas\n",
    "import pandas as pd\n",
    "start_time = time.time()\n",
    "df_pandas_load = pd.read_csv(csv_file)\n",
    "pandas_load_time = time.time() - start_time\n",
    "print(f\"Pandas load time: {pandas_load_time:.4f} seconds\")"
   ]
  },
  {
   "cell_type": "markdown",
   "metadata": {},
   "source": [
    "### Time to perform operations on the dataset"
   ]
  },
  {
   "cell_type": "code",
   "execution_count": 4,
   "metadata": {},
   "outputs": [],
   "source": [
    "transformations = {\n",
    "    \"Filter Rows\": lambda df: df[df[df.columns[0]] > df[df.columns[0]].median()],\n",
    "    \"Sort Values\": lambda df: df.sort_values(by=df.columns[0]),\n",
    "    \"GroupBy Mean\": lambda df: df.groupby(df.columns[1]).mean(numeric_only=True),  # Ensure only numeric columns are included\n",
    "    \"Add Column\": lambda df: df.assign(new_col=df[df.columns[0]] * 2),\n",
    "}"
   ]
  },
  {
   "cell_type": "code",
   "execution_count": 5,
   "metadata": {},
   "outputs": [
    {
     "name": "stdout",
     "output_type": "stream",
     "text": [
      "Filter Rows - Pandas time: 0.2585 seconds\n",
      "Filter Rows - cuDF time: 0.0475 seconds\n",
      "Filter Rows - Pandas (cuDF extension) time: 0.0313 seconds\n",
      "\n",
      "-----------------------------------\n",
      "\n",
      "Sort Values - Pandas time: 1.9335 seconds\n",
      "Sort Values - cuDF time: 0.0684 seconds\n",
      "Sort Values - Pandas (cuDF extension) time: 0.3990 seconds\n",
      "\n",
      "-----------------------------------\n",
      "\n",
      "GroupBy Mean - Pandas time: 3.8155 seconds\n",
      "GroupBy Mean - cuDF time: 3.4842 seconds\n",
      "GroupBy Mean - Pandas (cuDF extension) time: 3.6203 seconds\n",
      "\n",
      "-----------------------------------\n",
      "\n",
      "Add Column - Pandas time: 0.5798 seconds\n",
      "Add Column - cuDF time: 0.0049 seconds\n",
      "Add Column - Pandas (cuDF extension) time: 0.0030 seconds\n",
      "\n",
      "-----------------------------------\n",
      "\n"
     ]
    }
   ],
   "source": [
    "# Apply transformations and time them\n",
    "for name, func in transformations.items():\n",
    "    # Pandas\n",
    "    start_time = time.time()\n",
    "    _ = func(df_pandas)\n",
    "    pandas_time = time.time() - start_time\n",
    "    print(f\"{name} - Pandas time: {pandas_time:.4f} seconds\")\n",
    "\n",
    "    # cuDF\n",
    "    start_time = time.time()\n",
    "    _ = func(df_cudf)\n",
    "    cudf_time = time.time() - start_time\n",
    "    print(f\"{name} - cuDF time: {cudf_time:.4f} seconds\")\n",
    "\n",
    "    # Pandas + cuDF extension\n",
    "    start_time = time.time()\n",
    "    _ = func(df_pandas_load)\n",
    "    pandas_ext_time = time.time() - start_time\n",
    "    print(f\"{name} - Pandas (cuDF extension) time: {pandas_ext_time:.4f} seconds\")\n",
    "    \n",
    "    print(\"\\n-----------------------------------\\n\")\n"
   ]
  }
 ],
 "metadata": {
  "kernelspec": {
   "display_name": "rapids-24.12",
   "language": "python",
   "name": "python3"
  },
  "language_info": {
   "codemirror_mode": {
    "name": "ipython",
    "version": 3
   },
   "file_extension": ".py",
   "mimetype": "text/x-python",
   "name": "python",
   "nbconvert_exporter": "python",
   "pygments_lexer": "ipython3",
   "version": "3.12.9"
  }
 },
 "nbformat": 4,
 "nbformat_minor": 2
}
